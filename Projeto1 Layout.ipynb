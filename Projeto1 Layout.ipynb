{
 "cells": [
  {
   "cell_type": "markdown",
   "metadata": {},
   "source": [
    "___\n",
    "# Ciência dos Dados - PROJETO 1"
   ]
  },
  {
   "cell_type": "markdown",
   "metadata": {},
   "source": [
    "## Por: Matteo Iannoni\n",
    "___"
   ]
  },
  {
   "cell_type": "markdown",
   "metadata": {},
   "source": [
    "## Titulo: Comparando como é efetuado o uso de internet em domicilios mais e menos saturados de eletronicos"
   ]
  },
  {
   "cell_type": "markdown",
   "metadata": {},
   "source": [
    "___\n",
    "## Introdução\n",
    "\n",
    "Descreva aqui o que pretende analisar!\n",
    "\n",
    "Capriche no português!! \n",
    "Se quiser pode utilizar pesquisas semelhantes publicadas em sites confiáveis!!\n"
   ]
  },
  {
   "cell_type": "markdown",
   "metadata": {},
   "source": [
    "___\n",
    "## Análise e Resultados"
   ]
  },
  {
   "cell_type": "code",
   "execution_count": 2,
   "metadata": {
    "collapsed": true
   },
   "outputs": [],
   "source": [
    "%matplotlib inline\n",
    "import pandas as pd\n",
    "import matplotlib.pyplot as plt\n",
    "import numpy as np\n",
    "import os"
   ]
  },
  {
   "cell_type": "code",
   "execution_count": 3,
   "metadata": {
    "collapsed": false
   },
   "outputs": [
    {
     "name": "stdout",
     "output_type": "stream",
     "text": [
      "Esperamos trabalhar no diretório\n",
      "C:\\Users\\Matteo Iannoni\\Documents\\GitHub\\SDD_P1\\Projeto 1\n"
     ]
    }
   ],
   "source": [
    "print('Esperamos trabalhar no diretório')\n",
    "print(os.getcwd())"
   ]
  },
  {
   "cell_type": "code",
   "execution_count": 27,
   "metadata": {
    "collapsed": false
   },
   "outputs": [],
   "source": [
    "#Se usar o arquivo descompactado\n",
    "DataFrame = pd.read_csv('DOM2015/DOM2015.csv',sep=',')\n",
    "# df_full = DataFrame.iloc[0:3,0:5]#fileiras e colunas especificas: [1,2,3,4],[0,1,2,3]]\n",
    "# DataFrame[\"V0201\"]\n",
    "# df_filtro_grosso = pd.DataFrame({\"Especie de domicílio\":DataFrame[\"V0201\"],\n",
    "#                                 \"Numero de comodos no domicílio\":DataFrame[\"V0205\"],\n",
    "#                                 \"Numero de comodos servindo de dormitorio\":DataFrame[\"V0206\"],\n",
    "#                                 \"Condicao de ocupacao do domicilio\":DataFrame[\"V0207\"],\n",
    "#                                 \"Aluguel mensal pago no mes de referencia\":DataFrame[\"V0208\"],\n",
    "#                                 \"Prestacao mensal paga no mes de referencia\":DataFrame[\"V0209\"],\n",
    "#                                 \"Forma de iluminacao do domicilio\":DataFrame[\"V0219\"],\n",
    "#                                 \"Tem telefone movel celular\":DataFrame[\"V0220\"],\n",
    "#                                 \"Tem radio\":DataFrame[\"V0225\"],\n",
    "#                                 \"Tem televisao em cores\":DataFrame[\"V0226\"]\n",
    "#                                 \"numero de televisoes de tela fina\":DataFrame[\"V02270\"],\n",
    "#                                 \"Tem aparelho de DVD\":DataFrame[\"V2027\"],\n",
    "#                                 \"Tem microcomputador\":DataFrame[\"V0231\"],\n",
    "#                                 \"Microcomputador é uzado pra acessar a internet\":DataFrame[\"V0232\"],\n",
    "#                                 \"Tem tablet\":DataFrame[\"V02321\"],\n",
    "#                                 \"Tem acesso à internet no proprio domicilio\":DataFrame[\"V02322\"],\n",
    "#                                 \"Tem carro ou motocicleta de uso pessoal\":DataFrame[\"V2032\"],\n",
    "#                                 \"Rendimento mensal domiciliar\":DataFrame[\"V4614\"],\n",
    "#                                 \"Rendimento mensal domiciliar per capita\":DataFrame[\"V4621\"],\n",
    "#                                 \"Faixa do rendimento domiciliar per capita\":DataFrame[\"V4622\"],\n",
    "#                                 \"Para acessar à Internet utiliza-se microcomputador\":DataFrame[\"V02323\"],\n",
    "#                                 \"Para acessar à Internet utiliza-se telefone celular\":DataFrame[\"V02324\"],\n",
    "#                                 \"Para acessar à Internet utiliza-se tablet\":DataFrame[\"V02325\"],\n",
    "#                                 \"Para acessar à Internet utiliza-se tv\":DataFrame[\"V02326\"],\n",
    "#                                 \"Para acessar à Internet utiliza-se outro equipamento eletrônico\":DataFrame[\"V02327\"],\n",
    "#                                 \"O acesso à Internet é feito através de sinal de rede celular 3G ou 4G\":DataFrame[\"V02424\"],\n",
    "#                                 \"O acesso à Internet é feito através de conexão discada por linha telefônica\":DataFrame[\"V02425\"],\n",
    "#                                 \"O acesso à Internet é feito por banda larga\":DataFrame[\"V02426\"]})\n",
    "df_filtro_grosso = pd.DataFrame({\"Domicílio\":DataFrame[\"V0201\"],\n",
    "                                \"Forma de iluminacao do domicilio\":DataFrame[\"V0219\"],\n",
    "                                \"Tem telefone movel celular\":DataFrame[\"V0220\"],\n",
    "                                \"Tem radio\":DataFrame[\"V0225\"],\n",
    "                                \"Tem televisao em cores\":DataFrame[\"V0226\"],\n",
    "                                \"numero de televisoes de tela fina\":DataFrame[\"V02270\"],\n",
    "                                \"Tem aparelho de DVD\":DataFrame[\"V2027\"],\n",
    "                                \"Tem microcomputador\":DataFrame[\"V0231\"],\n",
    "                                \"Microcomputador é uzado pra acessar a internet\":DataFrame[\"V0232\"],\n",
    "                                \"Tem tablet\":DataFrame[\"V02321\"],\n",
    "                                \"Tem acesso à internet no proprio domicilio\":DataFrame[\"V02322\"],\n",
    "                                \"Para acessar à Internet utiliza-se microcomputador\":DataFrame[\"V02323\"],\n",
    "                                \"Para acessar à Internet utiliza-se telefone celular\":DataFrame[\"V02324\"],\n",
    "                                \"Para acessar à Internet utiliza-se tablet\":DataFrame[\"V02325\"],\n",
    "                                \"Para acessar à Internet utiliza-se tv\":DataFrame[\"V02326\"],\n",
    "                                \"Para acessar à Internet utiliza-se outro equipamento eletrônico\":DataFrame[\"V02327\"],\n",
    "                                \"O acesso à Internet é feito através de sinal de rede celular 3G ou 4G\":DataFrame[\"V02424\"],\n",
    "                                \"O acesso à Internet é feito através de conexão discada por linha telefônica\":DataFrame[\"V02425\"],\n",
    "                                \"O acesso à Internet é feito por banda larga\":DataFrame[\"V02426\"]})\n",
    "\n",
    "df_filtro_grosso = df_filtro_grosso[df_filtro_grosso.Domicílio == 1]\n",
    "df_filtro_grosso.to_excel('filtro_grosso.xlsx', sheet_name='Sheet1')\n",
    "\n",
    "# df_filtro_grosso.to_excel('filtro_grosso.xlsx', sheet_name='Sheet1')\n",
    "# df_filtro_grosso\n",
    "#Se usar o arquivo compactado como está no dropbox púbico\n",
    "#pd.read_csv('DOM2015csv.zip', compression='zip', header=0, sep=',', quotechar='\"')"
   ]
  },
  {
   "cell_type": "code",
   "execution_count": null,
   "metadata": {
    "collapsed": true
   },
   "outputs": [],
   "source": []
  },
  {
   "cell_type": "markdown",
   "metadata": {},
   "source": [
    "___\n",
    "## Conclusão "
   ]
  },
  {
   "cell_type": "markdown",
   "metadata": {
    "collapsed": true
   },
   "source": [
    "Descreva aqui suas conclusões!"
   ]
  },
  {
   "cell_type": "code",
   "execution_count": null,
   "metadata": {
    "collapsed": true
   },
   "outputs": [],
   "source": []
  }
 ],
 "metadata": {
  "anaconda-cloud": {},
  "kernelspec": {
   "display_name": "Python 3",
   "language": "python",
   "name": "python3"
  },
  "language_info": {
   "codemirror_mode": {
    "name": "ipython",
    "version": 3
   },
   "file_extension": ".py",
   "mimetype": "text/x-python",
   "name": "python",
   "nbconvert_exporter": "python",
   "pygments_lexer": "ipython3",
   "version": "3.6.0"
  }
 },
 "nbformat": 4,
 "nbformat_minor": 1
}
