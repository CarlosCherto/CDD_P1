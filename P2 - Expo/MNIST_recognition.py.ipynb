{
 "cells": [
  {
   "cell_type": "code",
   "execution_count": 1,
   "metadata": {
    "collapsed": true
   },
   "outputs": [],
   "source": [
    "# from sklearn.cluster import KMeans\n",
    "# import numpy as np\n",
    "# X = np.array([[1, 2], [1, 4], [1, 0],\n",
    "#               [4, 2], [4, 4], [4, 0]])\n",
    "# kmeans = KMeans(n_clusters=2, random_state=0).fit(X)\n",
    "# kmeans.labels_\n",
    "\n",
    "# kmeans.predict([[0, 0], [4, 4]])\n",
    "\n",
    "# kmeans.cluster_centers_"
   ]
  },
  {
   "cell_type": "code",
   "execution_count": 4,
   "metadata": {
    "collapsed": false
   },
   "outputs": [],
   "source": [
    "# from sklearn.cluster import KMeans\n",
    "# import numpy as np\n",
    "# from scipy import stats as st\n",
    "# from mnist import *\n",
    "\n",
    "# train_images = read_idx('train-images.idx3-ubyte')\n",
    "# train_labels = read_idx('train-labels.idx1-ubyte')"
   ]
  },
  {
   "cell_type": "code",
   "execution_count": 2,
   "metadata": {
    "collapsed": false
   },
   "outputs": [],
   "source": [
    "# index_lim = 1000\n",
    "# X = np.array([np.concatenate((train_images[x])) for x in range(0,index_lim)])"
   ]
  },
  {
   "cell_type": "code",
   "execution_count": 3,
   "metadata": {
    "collapsed": false
   },
   "outputs": [],
   "source": [
    "# clustquant = 100\n",
    "# kmeans = KMeans(n_clusters=clustquant, random_state=0).fit(X)"
   ]
  },
  {
   "cell_type": "code",
   "execution_count": 4,
   "metadata": {
    "collapsed": false
   },
   "outputs": [],
   "source": [
    "# equivalencia = {}\n",
    "\n",
    "# for cluster in range(0,clustquant):\n",
    "#     lista_reais = []\n",
    "#     for index in range(0,index_lim):\n",
    "#         if kmeans.labels_[index] == cluster:\n",
    "#             lista_reais.append(train_labels[index])\n",
    "    \n",
    "#     equivalencia[str(cluster)] = st.mode(lista_reais, axis=None)[0][0]"
   ]
  },
  {
   "cell_type": "code",
   "execution_count": 51,
   "metadata": {
    "collapsed": false
   },
   "outputs": [
    {
     "name": "stdout",
     "output_type": "stream",
     "text": [
      "% de acertos: 100.0\n",
      "% de erros: 0.0\n",
      "6\n"
     ]
    }
   ],
   "source": [
    "statistics = {\n",
    "                'Correct' : 0,\n",
    "                'Incorrect' : 0\n",
    "}\n",
    "\n",
    "tries = 1\n",
    "\n",
    "for n in range(0,tries):\n",
    "    \n",
    "    pred = randint(index_lim,len(train_images)-1)\n",
    "\n",
    "    if equivalencia[str(kmeans.predict([np.concatenate((train_images[pred]))])[0])] == train_labels[pred]:\n",
    "        statistics['Correct'] += 1\n",
    "    else:\n",
    "        statistics['Incorrect'] += 1\n",
    "\n",
    "print('% de acertos: ' + str(statistics['Correct']*100/tries))\n",
    "print('% de erros: ' + str(statistics['Incorrect']*100/tries))\n",
    "\n",
    "# print(equivalencia[str(kmeans.predict([np.concatenate((train_images[pred]))])[0])])\n",
    "\n",
    "# print(train_labels[pred])\n",
    "\n",
    "# print(train_images[pred])\n",
    "\n",
    "\n",
    "print(equivalencia[str(kmeans.predict([np.concatenate((train_images[pred]))])[0])])"
   ]
  },
  {
   "cell_type": "code",
   "execution_count": 86,
   "metadata": {
    "collapsed": false
   },
   "outputs": [
    {
     "data": {
      "image/png": "[encoded data removed]",
      "text/plain": [
       "<matplotlib.figure.Figure at 0x1a55b4a8>"
      ]
     },
     "metadata": {},
     "output_type": "display_data"
    }
   ],
   "source": [
    "import matplotlib.pyplot as plt\n",
    "# from matplotlib.pyplot import \n",
    "\n",
    "plt.imshow(train_images[pred])\n",
    "plt.show()"
   ]
  },
  {
   "cell_type": "code",
   "execution_count": 87,
   "metadata": {
    "collapsed": false
   },
   "outputs": [],
   "source": [
    "# train_images[pred]"
   ]
  },
  {
   "cell_type": "code",
   "execution_count": 193,
   "metadata": {
    "collapsed": false
   },
   "outputs": [
    {
     "data": {
      "image/png": "[encoded data removed]",
      "text/plain": [
       "<matplotlib.figure.Figure at 0x1a0b97b8>"
      ]
     },
     "metadata": {},
     "output_type": "display_data"
    },
    {
     "name": "stdout",
     "output_type": "stream",
     "text": [
      "5\n",
      "None\n"
     ]
    }
   ],
   "source": [
    "import numpy as np\n",
    "import cv2\n",
    "from math import *\n",
    "\n",
    "#Le janela da imagem (img_b) e referencia (img)\n",
    "img = cv2.imread('test_img_paint_num_4.jpg')\n",
    "\n",
    "#Converte pra HSV\n",
    "img = np.array(cv2.cvtColor(img, cv2.COLOR_BGR2HSV)[:,:,2])\n",
    "\n",
    "new_mean = np.mean(img)\n",
    "\n",
    "ymin = 0\n",
    "ymax = len(img)\n",
    "xmin = 0\n",
    "xmax = len(img[0])\n",
    "\n",
    "while np.mean(img[ymin:ymax,xmin + 1:xmax]) < new_mean:\n",
    "    xmin = xmin + 1\n",
    "    new_mean = np.mean(img[ymin:ymax,xmin:xmax])\n",
    "\n",
    "while np.mean(img[ymin:ymax,xmin:xmax - 1]) < new_mean:\n",
    "    xmax = xmax - 1\n",
    "    new_mean = np.mean(img[ymin:ymax,xmin:xmax])\n",
    "\n",
    "while np.mean(img[ymin + 1:ymax,xmin:xmax]) < new_mean:\n",
    "    ymin = ymin + 1\n",
    "    new_mean = np.mean(img[ymin:ymax,xmin:xmax])\n",
    "\n",
    "while np.mean(img[ymin:ymax - 1,xmin:xmax]) < new_mean:\n",
    "    ymax = ymax - 1\n",
    "    new_mean = np.mean(img[ymin:ymax,xmin:xmax])\n",
    "\n",
    "if (ymax - ymin)%28  != 0:\n",
    "    while ((ymax - ymin)%28)%2 != 0:\n",
    "        ymax += 1\n",
    "    diff = ((ymax - ymin)%28)/2\n",
    "#     print(diff)\n",
    "    ymax += diff\n",
    "    ymin -= diff\n",
    "\n",
    "if (xmax - xmin)%28  != 0:\n",
    "    while ((xmax - xmin)%28)%2 != 0:\n",
    "        xmax += 1\n",
    "    diff = ((xmax - xmin)%28)/2\n",
    "#     print(diff)\n",
    "    xmax += diff\n",
    "    xmin -= diff\n",
    "\n",
    "img = img[int(ymin):int(ymax),int(xmin):int(xmax)]\n",
    "\n",
    "img = 255 - img\n",
    "\n",
    "xpxwidth = len(img[0])/28\n",
    "\n",
    "ypxwidth = len(img)/28\n",
    "\n",
    "new_img = []\n",
    "\n",
    "for y in range(0,28):\n",
    "    line = []\n",
    "    for x in range(0,28):\n",
    "        line.append(int(round(np.mean(img[int(ypxwidth*y):int(ypxwidth*(y + 1)),int(xpxwidth*x):int(xpxwidth*(x + 1))]))))\n",
    "    new_img.append(line)\n",
    "\n",
    "new_img = (np.array(new_img))\n",
    "plt.imshow(new_img)\n",
    "plt.show()\n",
    "new_img = np.concatenate(new_img)\n",
    "# print(str(kmeans.predict([new_img])[0]))\n",
    "print(print(equivalencia[str(kmeans.predict([new_img])[0])]))"
   ]
  },
  {
   "cell_type": "code",
   "execution_count": null,
   "metadata": {
    "collapsed": true
   },
   "outputs": [],
   "source": []
  },
  {
   "cell_type": "code",
   "execution_count": 188,
   "metadata": {
    "collapsed": false
   },
   "outputs": [
    {
     "name": "stdout",
     "output_type": "stream",
     "text": [
      "11.0\n",
      "1.0\n"
     ]
    }
   ],
   "source": [
    "new_mean = np.mean(img)\n",
    "\n",
    "ymin = 0\n",
    "ymax = len(img)\n",
    "xmin = 0\n",
    "xmax = len(img[0])\n",
    "\n",
    "while np.mean(img[ymin:ymax,xmin + 1:xmax]) < new_mean:\n",
    "    xmin = xmin + 1\n",
    "    new_mean = np.mean(img[ymin:ymax,xmin:xmax])\n",
    "\n",
    "while np.mean(img[ymin:ymax,xmin:xmax - 1]) < new_mean:\n",
    "    xmax = xmax - 1\n",
    "    new_mean = np.mean(img[ymin:ymax,xmin:xmax])\n",
    "\n",
    "while np.mean(img[ymin + 1:ymax,xmin:xmax]) < new_mean:\n",
    "    ymin = ymin + 1\n",
    "    new_mean = np.mean(img[ymin:ymax,xmin:xmax])\n",
    "\n",
    "while np.mean(img[ymin:ymax - 1,xmin:xmax]) < new_mean:\n",
    "    ymax = ymax - 1\n",
    "    new_mean = np.mean(img[ymin:ymax,xmin:xmax])\n",
    "\n",
    "if (ymax - ymin)%28  != 0:\n",
    "    while ((ymax - ymin)%28)%2 != 0:\n",
    "        ymax += 1\n",
    "    diff = ((ymax - ymin)%28)/2\n",
    "    print(diff)\n",
    "    ymax += diff\n",
    "    ymin -= diff\n",
    "\n",
    "if (xmax - xmin)%28  != 0:\n",
    "    while ((xmax - xmin)%28)%2 != 0:\n",
    "        xmax += 1\n",
    "    diff = ((xmax - xmin)%28)/2\n",
    "    print(diff)\n",
    "    xmax += diff\n",
    "    xmin -= diff"
   ]
  },
  {
   "cell_type": "code",
   "execution_count": 183,
   "metadata": {
    "collapsed": false
   },
   "outputs": [],
   "source": [
    "img = img[int(ymin):int(ymax),int(xmin):int(xmax)]\n",
    "\n",
    "img = 255 - img\n",
    "\n",
    "xpxwidth = len(img[0])/28\n",
    "\n",
    "ypxwidth = len(img)/28\n",
    "\n",
    "new_img = []\n",
    "\n",
    "for y in range(0,28):\n",
    "    line = []\n",
    "    for x in range(0,28):\n",
    "        line.append(int(round(np.mean(img[int(ypxwidth*y):int(ypxwidth*(y + 1)),int(xpxwidth*x):int(xpxwidth*(x + 1))]))))\n",
    "    new_img.append(line)\n"
   ]
  },
  {
   "cell_type": "code",
   "execution_count": 184,
   "metadata": {
    "collapsed": false
   },
   "outputs": [
    {
     "data": {
      "image/png": "[encoded data removed]",
      "text/plain": [
       "<matplotlib.figure.Figure at 0x19fb3c18>"
      ]
     },
     "metadata": {},
     "output_type": "display_data"
    },
    {
     "name": "stdout",
     "output_type": "stream",
     "text": [
      "97\n",
      "5\n",
      "None\n"
     ]
    }
   ],
   "source": [
    "new_img = (np.array(new_img))\n",
    "plt.imshow(new_img)\n",
    "plt.show()\n",
    "new_img = np.concatenate(new_img)\n",
    "print(str(kmeans.predict([new_img])[0]))\n",
    "print(print(equivalencia[str(kmeans.predict([new_img])[0])]))"
   ]
  },
  {
   "cell_type": "markdown",
   "metadata": {},
   "source": [
    "ANTES DESSA PARTE, TUDO É RASCUNHO..."
   ]
  },
  {
   "cell_type": "code",
   "execution_count": 1,
   "metadata": {
    "collapsed": true
   },
   "outputs": [],
   "source": [
    "from sklearn.cluster import KMeans\n",
    "import numpy as np\n",
    "from scipy import stats as st\n",
    "from mnist import *\n",
    "\n",
    "train_images = read_idx('train-images.idx3-ubyte')\n",
    "train_labels = read_idx('train-labels.idx1-ubyte')"
   ]
  },
  {
   "cell_type": "code",
   "execution_count": 2,
   "metadata": {
    "collapsed": true
   },
   "outputs": [],
   "source": [
    "index_lim = 10000\n",
    "X = np.array([np.concatenate((train_images[x])) for x in range(0,index_lim)])"
   ]
  },
  {
   "cell_type": "code",
   "execution_count": 3,
   "metadata": {
    "collapsed": true
   },
   "outputs": [],
   "source": [
    "clustquant = 100\n",
    "kmeans = KMeans(n_clusters=clustquant, random_state=0).fit(X)"
   ]
  },
  {
   "cell_type": "code",
   "execution_count": 4,
   "metadata": {
    "collapsed": true
   },
   "outputs": [],
   "source": [
    "equivalencia = {}\n",
    "\n",
    "for cluster in range(0,clustquant):\n",
    "    lista_reais = []\n",
    "    for index in range(0,index_lim):\n",
    "        if kmeans.labels_[index] == cluster:\n",
    "            lista_reais.append(train_labels[index])\n",
    "    \n",
    "    equivalencia[str(cluster)] = st.mode(lista_reais, axis=None)[0][0]"
   ]
  },
  {
   "cell_type": "code",
   "execution_count": 5,
   "metadata": {
    "collapsed": false
   },
   "outputs": [],
   "source": [
    "import numpy as np\n",
    "import cv2\n",
    "from math import *\n",
    "import matplotlib.pyplot as plt\n",
    "\n",
    "def focus(img):\n",
    "\n",
    "    column_means = np.array([int(round(np.mean(img[x]))) for x in range(0,len(img))])\n",
    "\n",
    "    ymin = 0\n",
    "    ymax = len(img) - 1\n",
    "\n",
    "    while column_means[ymin] < list(set(column_means))[1]:\n",
    "        ymin += 1\n",
    "\n",
    "    while column_means[ymax] < list(set(column_means))[1]:\n",
    "        ymax -= 1\n",
    "\n",
    "    ymin -= int(round((ymax - ymin)/7))\n",
    "    ymax += int(round((ymax - ymin)/7))\n",
    "\n",
    "    line_means = [int(round(np.mean(img[ymin:ymax,x]))) for x in range(0,len(img[0]))] # 'x' é a funcao abaixo...\n",
    "\n",
    "    xmin = 0\n",
    "    xmax = len(line_means) - 1\n",
    "\n",
    "    while line_means[xmin] < list(set(line_means))[3]:\n",
    "        xmin += 1\n",
    "\n",
    "    while line_means[xmax] < list(set(line_means))[3]:\n",
    "        xmax -= 1\n",
    "\n",
    "    if (ymax - ymin < xmax - xmin):\n",
    "        if ((xmax - xmin) - (ymax - ymin))%2 != 0:\n",
    "            ymax += (((xmax - xmin) - (ymax - ymin)) + 1)/2\n",
    "            ymin -= (((xmax - xmin) - (ymax - ymin)) + 1)/2\n",
    "        else:\n",
    "            ymax += ((xmax - xmin) - (ymax - ymin))/2\n",
    "            ymin -= ((xmax - xmin) - (ymax - ymin))/2\n",
    "    elif (ymax - ymin > xmax - xmin):\n",
    "        if ((ymax - ymin) - (xmax - xmin))%2 != 0:\n",
    "            xmax += (((ymax - ymin) - (xmax - xmin)) + 1)/2\n",
    "            xmin -= (((ymax - ymin) - (xmax - xmin)) + 1)/2\n",
    "        else:\n",
    "            xmax += ((ymax - ymin) - (xmax - xmin))/2\n",
    "            xmin -= ((ymax - ymin) - (xmax - xmin))/2\n",
    "\n",
    "    ymax = int(ymax)\n",
    "    ymin = int(ymin)\n",
    "    xmax = int(xmax)\n",
    "    xmin = int(xmin)\n",
    "\n",
    "    return (img[ymin:ymax,xmin:xmax])\n",
    "\n",
    "def guesser(img):\n",
    "    #Converte pra HSV\n",
    "    \n",
    "    print(img)\n",
    "    \n",
    "    img = 255 - img[:,:,2]\n",
    "    \n",
    "#     print(img)\n",
    "\n",
    "#     new_mean = np.mean(img)\n",
    "\n",
    "#     ymin = 0\n",
    "#     ymax = len(img)\n",
    "#     xmin = 0\n",
    "#     xmax = len(img[0])\n",
    "\n",
    "\n",
    "#     while np.mean(img[xmin + 5:]) < new_mean:\n",
    "#         xmin = xmin + 1\n",
    "#         new_mean = np.mean(img[ymin:ymax,xmin:xmax])\n",
    "\n",
    "#     while np.mean(img[xmin:xmax - 5]) < new_mean:\n",
    "#         xmax = xmax - 1\n",
    "#         new_mean = np.mean(img[ymin:ymax,xmin:xmax])\n",
    "\n",
    "#     while np.mean(img[ymin + 5:,xmin:xmax]) < new_mean:\n",
    "#         ymin = ymin + 1\n",
    "#         new_mean = np.mean(img[ymin:ymax,xmin:xmax])\n",
    "\n",
    "#     while np.mean(img[ymin:ymax - 5,xmin:xmax]) < new_mean:\n",
    "#         ymax = ymax - 1\n",
    "#         new_mean = np.mean(img[ymin:ymax,xmin:xmax])\n",
    "\n",
    "#     if (ymax - ymin)%28  != 0:\n",
    "#         diff = ((ymax - ymin)%28)\n",
    "#         if diff%2 != 0:\n",
    "#             diff += 1\n",
    "#         diff = diff/2\n",
    "#         ymax += diff\n",
    "#         ymin -= diff\n",
    "\n",
    "#     if (xmax - xmin)%28  != 0:\n",
    "#         diff = ((xmax - xmin)%28)\n",
    "#         if diff%2 != 0:\n",
    "#             diff += 1\n",
    "#         diff = diff/2\n",
    "#         xmax += diff\n",
    "#         xmin -= diff\n",
    "\n",
    "#     img = img[int(ymin):int(ymax),int(xmin):int(xmax)]\n",
    "\n",
    "#     img = 255 - img\n",
    "\n",
    "#     xpxwidth = len(img[0])/28\n",
    "\n",
    "#     ypxwidth = len(img)/28\n",
    "\n",
    "#     new_img = []\n",
    "\n",
    "#     for y in range(0,28):\n",
    "#         line = []\n",
    "#         for x in range(0,28):\n",
    "#             line.append(int(round(np.mean(img[int(round(ypxwidth*y)):int(round(ypxwidth*(y + 1))),int(round(xpxwidth*x)):int(round(xpxwidth*(x + 1)))]))))\n",
    "#         new_img.append(line)\n",
    "\n",
    "    new_img = focus(img)#(np.array(new_img))\n",
    "    plt.imshow(new_img)\n",
    "    plt.show()\n",
    "    new_img = np.concatenate(new_img)\n",
    "    print(print(equivalencia[str(kmeans.predict([new_img])[0])]))"
   ]
  },
  {
   "cell_type": "code",
   "execution_count": null,
   "metadata": {
    "collapsed": false
   },
   "outputs": [
    {
     "name": "stdout",
     "output_type": "stream",
     "text": [
      "% de acertos: 77.2\n",
      "% de erros: 22.8\n"
     ]
    }
   ],
   "source": [
    "from random import randint\n",
    "\n",
    "statistics = {\n",
    "                'Correct' : 0,\n",
    "                'Incorrect' : 0\n",
    "}\n",
    "\n",
    "tries = 1000\n",
    "\n",
    "for n in range(0,tries):\n",
    "    \n",
    "    pred = randint(index_lim,len(train_images)-1)\n",
    "\n",
    "    if equivalencia[str(kmeans.predict([np.concatenate((train_images[pred]))])[0])] == train_labels[pred]:\n",
    "        statistics['Correct'] += 1\n",
    "    else:\n",
    "        statistics['Incorrect'] += 1\n",
    "\n",
    "print('% de acertos: ' + str(statistics['Correct']*100/tries))\n",
    "print('% de erros: ' + str(statistics['Incorrect']*100/tries))"
   ]
  },
  {
   "cell_type": "code",
   "execution_count": null,
   "metadata": {
    "collapsed": false
   },
   "outputs": [],
   "source": [
    "import cv2\n",
    "import numpy as np\n",
    "\n",
    "cap = cv2.VideoCapture(0)\n",
    "\n",
    "counter = 0\n",
    "\n",
    "while(1):\n",
    "\n",
    "    # Take each frame\n",
    "    _, frame = cap.read()\n",
    "    \n",
    "    # Convert BGR to HSV\n",
    "    hsv = cv2.cvtColor(frame, cv2.COLOR_BGR2HSV)\n",
    "    \n",
    "    # define range of blue color in HSV\n",
    "    lower_blue = np.array([110,50,50])\n",
    "    upper_blue = np.array([130,255,255])\n",
    "\n",
    "    # Threshold the HSV image to get only blue colors\n",
    "    mask = cv2.inRange(hsv, lower_blue, upper_blue)\n",
    "    \n",
    "#     mask = 255 - mask\n",
    "\n",
    "#     print(mask)\n",
    "\n",
    "    if counter%40 == 0:\n",
    "        try:\n",
    "            guesser(mask)\n",
    "        except ValueError:\n",
    "            pass\n",
    "        except IndexError:\n",
    "            pass\n",
    "    \n",
    "    counter += 1\n",
    "\n",
    "    cv2.imshow('mask',mask)\n",
    "    cv2.imshow('frame',frame)\n",
    "    k = cv2.waitKey(5) & 0xFF\n",
    "    if k == 27:\n",
    "        break\n",
    "\n",
    "cv2.destroyAllWindows()"
   ]
  },
  {
   "cell_type": "code",
   "execution_count": null,
   "metadata": {
    "collapsed": false
   },
   "outputs": [],
   "source": []
  },
  {
   "cell_type": "code",
   "execution_count": null,
   "metadata": {
    "collapsed": true
   },
   "outputs": [],
   "source": []
  }
 ],
 "metadata": {
  "kernelspec": {
   "display_name": "Python 3",
   "language": "python",
   "name": "python3"
  },
  "language_info": {
   "codemirror_mode": {
    "name": "ipython",
    "version": 3
   },
   "file_extension": ".py",
   "mimetype": "text/x-python",
   "name": "python",
   "nbconvert_exporter": "python",
   "pygments_lexer": "ipython3",
   "version": "3.6.0"
  }
 },
 "nbformat": 4,
 "nbformat_minor": 2
}
