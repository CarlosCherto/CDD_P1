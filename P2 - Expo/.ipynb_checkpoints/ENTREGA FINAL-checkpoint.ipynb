{
 "cells": [
  {
   "cell_type": "markdown",
   "metadata": {},
   "source": [
    "# Projeto 3 Ciência dos Dados\n",
    "### Matteo Iannoni e Raphael Azevedo"
   ]
  },
  {
   "cell_type": "markdown",
   "metadata": {},
   "source": [
    "## Introdução"
   ]
  },
  {
   "cell_type": "markdown",
   "metadata": {},
   "source": [
    "#### Nossa pergunta\n",
    "No projeto 3, nós procuramos explorar os conceitos de machine learning e computer vision referenciados ao longo do nosso curso. Pensamos em utilizar clusterização, mais especificamente o método k-means de clusterização da biblioteca ‘sklearn’ em python 3. Com isso em mente, nós nos propusemos o seguinte desafio: Seria possível criar um algoritmo que reconheça e classifique, com maioria de acertos, imagens de números em tempo real usando esse metodo?"
   ]
  },
  {
   "cell_type": "markdown",
   "metadata": {},
   "source": [
    "#### Visualização do problema\n",
    "Pesquisando como fariamos para tornar a imagem interpretavel pelo computador, concluimos que deveriamos tornar a imagem em um vetor. Fizemos isso tornando cada pixel em uma dimensao desse vetor e entao o valor deste pixel seria a magnitude do vetor naquela dimensao; pixeis normalmente sao representados por tres valores, nós levamos em consideração somente um valor que representa o quao breto ou branco aquele pixel é."
   ]
  },
  {
   "cell_type": "markdown",
   "metadata": {},
   "source": [
    "#### Clusterização por k-means aplicada ao problema\n",
    "Agora poderiamos clusterizar esses vetores utilizando o metodo k-means, que se extende para qualquer numero de dimensoes e por isso foi muito util para nós. Mesmo com a capacidade de clusterizar imagens, ainda é necessario ter a capacidade de identificar os clusters, por isso foi necessario usarmos uma base de dados de treino com uma imagem e com uma informação referente a o que aquela imagem era, decidimos usar a \"MNIST database of handwritten digits\" que tem 60k imagens de treino e 10k imagens de teste, cada uma com um identificador referente a que digito aquela imagem contem."
   ]
  },
  {
   "cell_type": "markdown",
   "metadata": {},
   "source": [
    "## O Algoritmo"
   ]
  },
  {
   "cell_type": "code",
   "execution_count": 2,
   "metadata": {
    "collapsed": true
   },
   "outputs": [],
   "source": [
    "# Importando as bibliotecas e lendo os arquivos, nada demais aqui\n",
    "from sklearn.cluster import KMeans\n",
    "import numpy as np\n",
    "from scipy import stats as st\n",
    "from mnist import *\n",
    "import pickle\n",
    "from random import randint\n",
    "import os\n",
    "import matplotlib.pyplot as plt\n",
    "import cv2\n",
    "\n",
    "# Lê a base de dados\n",
    "train_images = read_idx('train-images.idx3-ubyte')\n",
    "train_labels = read_idx('train-labels.idx1-ubyte')"
   ]
  },
  {
   "cell_type": "markdown",
   "metadata": {},
   "source": [
    "#### Treinamento\n",
    "Aqui temos o treinamento do classificador. O treino vai usar uma quantidade de imagens e clusters definidas pelas variaveis 'index_lim' e 'clustquant', respectivamente, e vai salvar a informação dos clusters criados em um arquivo pickle com o nome 'train_30clust_1000_imgs.p' (para 1000 imagens e 30 clusters, como esta no codigo). Esse codigo foi criado para podermos testar varios treinos com rapidez sem precisar treinar o classificador toda vez."
   ]
  },
  {
   "cell_type": "code",
   "execution_count": null,
   "metadata": {
    "collapsed": true
   },
   "outputs": [],
   "source": [
    "# Quantidade de imagens com as quais treinar\n",
    "index_lim = 1000\n",
    "\n",
    "# Criar um numpy array com a informação vetorial das imagens como explicado na visualização do problema\n",
    "X = np.array([np.concatenate((train_images[x])) for x in range(0,index_lim)]) # Os vetores, nesse caso, tem 784 dimensoes\n",
    "\n",
    "# Quantidade de clusters para criar\n",
    "clustquant = 30\n",
    "\n",
    "# Clusterização. Essa é a linha de codigo mais longa de todo o projeto\n",
    "kmeans = KMeans(n_clusters=clustquant, random_state=0).fit(X)\n",
    "\n",
    "# Salvar o arquivo pickle\n",
    "exec('pickle.dump( kmeans, open( \"train_' + str(clustquant) + 'clust_' + str(index_lim) + 'imgs.p\", \"wb\" ) )')"
   ]
  },
  {
   "cell_type": "markdown",
   "metadata": {},
   "source": [
    "#### Usando um treino existente\n",
    "Aqui carregamos um arquivo de treino ja existente, com o nome 'train_30clust_1000_imgs.p' (para 50000 imagens e 1000 clusters, como esta no codigo)."
   ]
  },
  {
   "cell_type": "code",
   "execution_count": null,
   "metadata": {
    "collapsed": true
   },
   "outputs": [],
   "source": [
    "# Quantidade de imagens do arquivo\n",
    "image_quantity = 50000\n",
    "\n",
    "# Quantidade de clusters do arquivo\n",
    "cluster_quantity = 1000\n",
    "\n",
    "# Carrega o arquivo pickle com as especificacoes acima\n",
    "exec('kmeans = pickle.load(open(\"train_' + str(cluster_quantity) + 'clust_' + str(image_quantity) + 'imgs.p\", \"rb\"))')"
   ]
  },
  {
   "cell_type": "markdown",
   "metadata": {},
   "source": [
    "#### Criando o dicionario de equivalencia para os clusters desse arquivo\n",
    "Aqui é criado um dicionario que o algoritmo vai usar para achar o digito que equivale ao cluster em que foi classificada uma imagem."
   ]
  },
  {
   "cell_type": "code",
   "execution_count": null,
   "metadata": {
    "collapsed": true
   },
   "outputs": [],
   "source": [
    "# Cria o dicionario\n",
    "equivalencia = {}\n",
    "\n",
    "# Para os indexes de 0 a cluster_quantity\n",
    "for cluster in range(0,cluster_quantity):\n",
    "    \n",
    "    # Criar uma lista para guardar os valores dos digitos que equivalem às imagens nesse cluster\n",
    "    lista_reais = []\n",
    "\n",
    "    # Para cada index de 0 a image_quantity\n",
    "    for index in range(0,image_quantity):\n",
    "        \n",
    "        # Se a imagem esta nesse cluster\n",
    "        if kmeans.labels_[index] == cluster:\n",
    "            \n",
    "            # Guardar o valor do digito que equivale à imagem na lista desse cluster\n",
    "            lista_reais.append(train_labels[index])\n",
    "    \n",
    "    # Salvar no dicionario uma key com o numero do cluster, que contém a informação do digito que esse cluster equivale a\n",
    "    equivalencia[str(cluster)] = st.mode(lista_reais, axis=None)[0][0]"
   ]
  },
  {
   "cell_type": "markdown",
   "metadata": {},
   "source": [
    "#### Verificando porcentagem de acertos e erros\n",
    "Aqui classificamos uma certa quantidade de numeros, equivalente à variavel 'tries', e verificamos quantos foram acertos e quantos foram erros para ter uma noção da precisao da classificação."
   ]
  },
  {
   "cell_type": "code",
   "execution_count": null,
   "metadata": {
    "collapsed": true
   },
   "outputs": [],
   "source": [
    "# Criar um dicionario para guardar a informacao de erros e acertos\n",
    "statistics = {\n",
    "        'Correct' : 0,\n",
    "        'Incorrect' : 0\n",
    "}\n",
    "\n",
    "# Quantidade de tentativas que queremos que o programa execute\n",
    "tries = 1000\n",
    "\n",
    "# Para a quantidade de tentativas que foi estabelecida anteriormente\n",
    "for n in range(0,tries):\n",
    "    \n",
    "    # Escolha um index de imagem que nao foi usada no treinamento\n",
    "    pred = randint(image_quantity,len(train_images)-1)\n",
    "\n",
    "        # Se o valor que o algoritmo deu `a imagem 'e o mesmo que o valor de verdade da imagem\\\n",
    "        if equivalencia[str(kmeans.predict([np.concatenate((train_images[pred]))])[0])] == train_labels[pred]:\n",
    "            \n",
    "            # Soma 1 na quantidade 'Correct'\n",
    "            statistics['Correct'] += 1\n",
    "        \n",
    "        # Se Nao\n",
    "        else:\n",
    "            \n",
    "            # Soma 1 na quantidade 'Incorrect'\n",
    "            statistics['Incorrect'] += 1\n",
    "\n",
    "# Imprima a porcentagem de acertos e erros\n",
    "print('% de acertos: ' + str(statistics['Correct']*100/tries))\n",
    "print('% de erros: ' + str(statistics['Incorrect']*100/tries))"
   ]
  },
  {
   "cell_type": "markdown",
   "metadata": {},
   "source": [
    "#### Focando uma imagem\n",
    "Essa funcao foi criada do zero por nos. Ela cria uma imagem de resolucao reduzida (28x28) do local onde ela ve que tem maior densidade de preto na imagem original."
   ]
  },
  {
   "cell_type": "code",
   "execution_count": null,
   "metadata": {
    "collapsed": true
   },
   "outputs": [],
   "source": [
    "def focus(img):\n",
    "    \n",
    "    # Lista da media da tonalidade de preto em cada linha da imagem (ignora que o nome da variavel 'e 'column_means')\n",
    "    column_means = np.array([int(round(np.mean(img[x]))) for x in range(0,len(img))])\n",
    "\n",
    "    # Yminimo 'e a linha de pixeis na qual comeca a imagem\n",
    "    ymin = 0\n",
    "    \n",
    "    # Ymaximo 'e a linha de pixeis na qual acaba a imagem\n",
    "    ymax = len(img) - 1\n",
    "\n",
    "    # Enquanto a media de tonalidade de preto for menor do que a do primeiro valor maior do que o minimo do set da lista das medias\n",
    "    while column_means[ymin] < list(set(column_means))[1]:\n",
    "        # Soma 1 ao Yminimo\n",
    "        ymin += 1\n",
    "    \n",
    "    # Enquanto a media de tonalidade de preto for menor do que a do primeiro valor maior do que o minimo do set da lista das medias\n",
    "    while column_means[ymax] < list(set(column_means))[1]:\n",
    "        # Soma 1 ao Ymaximo\n",
    "        ymax -= 1\n",
    "\n",
    "    # Dar um pouco de margem em cima e em baixo do Yminimo e Ymaximo, por que as imagens de treino tem um pouco de margem\n",
    "    ymin -= int(round((ymax - ymin)/7))\n",
    "    ymax += int(round((ymax - ymin)/7))\n",
    "    \n",
    "    \n",
    "    # Lista da media da tonalidade de preto em cada coluna da imagem ja restringida por Yminimo e Ymaximo (ignora que o nome da variavel 'e 'line_means')\n",
    "    line_means = [int(round(np.mean(img[ymin:ymax,x]))) for x in range(0,len(img[0]))]\n",
    "    \n",
    "    # Xminimo 'e a coluna de pixeis na qual comeca a imagem\n",
    "    xmin = 0\n",
    "    \n",
    "    # Xmaximo 'e a coluna de pixeis na qual acaba a imagem\n",
    "    xmax = len(line_means) - 1\n",
    "    \n",
    "    # Enquanto a media de tonalidade de preto for menor do que a do primeiro valor maior do que o minimo do set da lista das medias\n",
    "    while line_means[xmin] <= list(set(line_means))[1]:\n",
    "        # Soma 1 ao Xminimo\n",
    "        xmin += 1\n",
    "    \n",
    "    # Enquanto a media de tonalidade de preto for menor do que a do primeiro valor maior do que o minimo do set da lista das medias\n",
    "    while line_means[xmax] <= list(set(line_means))[1]:\n",
    "        # Soma 1 ao Xmaximo\n",
    "        xmax -= 1\n",
    "        \n",
    "    # Se a imagem nao for quadrada, tornar ela quadrada com esses 2 ifs\n",
    "    if ((ymax - ymin) < (xmax - xmin)):\n",
    "        if ((xmax - xmin) - (ymax - ymin))%2 != 0:\n",
    "            diff = (((xmax - xmin) - (ymax - ymin)) + 1)/2\n",
    "            ymax += diff\n",
    "            ymin -= diff\n",
    "        else:\n",
    "            diff = ((xmax - xmin) - (ymax - ymin))/2\n",
    "            ymax += diff\n",
    "            ymin -= diff\n",
    "    if ((ymax - ymin) > (xmax - xmin)):\n",
    "        if ((ymax - ymin) - (xmax - xmin))%2 != 0:\n",
    "            diff = (((ymax - ymin) - (xmax - xmin)) + 1)/2\n",
    "            xmax += (diff - 1)\n",
    "            xmin -= diff\n",
    "        else:\n",
    "            diff = ((ymax - ymin) - (xmax - xmin))/2\n",
    "            xmax += diff\n",
    "            xmin -= diff\n",
    "\n",
    "    # Se a imagem nao for divizivel por 28, tornar divizivel por 28\n",
    "    if (ymax - ymin)%28 != 0:\n",
    "        diff = ((ymax - ymin)%28)\n",
    "        if diff%2 != 0:\n",
    "            diff += 1\n",
    "        diff = diff/2\n",
    "        ymax += diff\n",
    "        ymin -= diff\n",
    "        xmax += diff\n",
    "        xmin -= diff\n",
    "\n",
    "    # Esses valores sao floats quando chegam aqui, por isso sao tornados em Ints\n",
    "    ymax = int(ymax)\n",
    "    ymin = int(ymin)\n",
    "    xmax = int(xmax)\n",
    "    xmin = int(xmin)\n",
    "\n",
    "    # Restringir a imagem aos valores encontrados\n",
    "    img = img[ymin:ymax,xmin:xmax]\n",
    "\n",
    "    # new_img vai ser a imagem com resolucao mais baixa do que a original\n",
    "    new_img = []\n",
    "\n",
    "    # length 'e a largura que cada pixel reduzido tem na imagem original\n",
    "    length = len(img)/28\n",
    "\n",
    "    # Para linha de 0 a 28\n",
    "    for y in range(0,28):\n",
    "        \n",
    "        # Lista vasia para guardar a informacao da linha\n",
    "        line = []\n",
    "        \n",
    "        # Para cada pixel na linha, de 0 a 28\n",
    "        for x in range(0,28):\n",
    "            \n",
    "            # Appenda a media de pixeis `a qual este pixel equivale\n",
    "            line.append(int(round(np.mean(img[int(round(length*y)):int(round(length*(y + 1))),int(round(length*x)):int(round(length*(x + 1)))]))))\n",
    "        \n",
    "        # Appenda a linha\n",
    "        new_img.append(line)\n",
    "\n",
    "    return (new_img)"
   ]
  },
  {
   "cell_type": "markdown",
   "metadata": {},
   "source": [
    "#### Classificando uma imagem focada\n",
    "A funcao que classifica 'e bem simples, ela so' classifica a imagem que passou pelo algoritmo de focar."
   ]
  },
  {
   "cell_type": "code",
   "execution_count": null,
   "metadata": {
    "collapsed": true
   },
   "outputs": [],
   "source": [
    "def guesser(img):\n",
    "    return((equivalencia[str(kmeans.predict([np.concatenate(focus(img))])[0])]))"
   ]
  },
  {
   "cell_type": "code",
   "execution_count": null,
   "metadata": {
    "collapsed": true
   },
   "outputs": [],
   "source": [
    "# Define o canal de captura\n",
    "cap = cv2.VideoCapture(0)\n",
    "\n",
    "# Lista que filtra os valores classificados para uma imagem\n",
    "number = []\n",
    "\n",
    "while(1):\n",
    "\n",
    "    # R1\n",
    "    _, frame = cap.read()\n",
    "\n",
    "    # R2\n",
    "    hsv = cv2.cvtColor(frame, cv2.COLOR_BGR2HSV)\n",
    "\n",
    "    # R3\n",
    "    lower_blue = np.array([110, 100, 20])\n",
    "    upper_blue = np.array([160, 255, 255])\n",
    "\n",
    "    # R4\n",
    "    mask = cv2.inRange(hsv, lower_blue, upper_blue)\n",
    "\n",
    "    try:\n",
    "        # Se a lista de filtragem tiver menos de 20 itens\n",
    "        if len(number) <= 20:\n",
    "            # Classificar o item na tela e appendar na lista de filtragem\n",
    "            number.append(guesser(mask))\n",
    "        \n",
    "        # Se nao\n",
    "        else:\n",
    "            # Tirar valor mais antigo da lista\n",
    "            number = number[1:]\n",
    "            \n",
    "            # Classificar o item na tela e appendar na lista de filtragem\n",
    "            number.append(guesser(mask))\n",
    "            \n",
    "            # Imprimir o valor mais recorrente da lista\n",
    "            print('Number found: ' + str(st.mode(number)[0][0]))\n",
    "    \n",
    "    #\n",
    "    except ValueError:\n",
    "        number = []\n",
    "        print('Looking for number...')\n",
    "    except IndexError:\n",
    "        number = []\n",
    "        print('Looking for number...')\n",
    "\n",
    "    counter += 1\n",
    "\n",
    "    cv2.imshow('mask',mask)\n",
    "    cv2.imshow('frame',frame)\n",
    "    k = cv2.waitKey(5) & 0xFF\n",
    "    if k == 27:\n",
    "        break\n",
    "\n",
    "cv2.destroyAllWindows()"
   ]
  }
 ],
 "metadata": {
  "kernelspec": {
   "display_name": "Python 3",
   "language": "python",
   "name": "python3"
  },
  "language_info": {
   "codemirror_mode": {
    "name": "ipython",
    "version": 3
   },
   "file_extension": ".py",
   "mimetype": "text/x-python",
   "name": "python",
   "nbconvert_exporter": "python",
   "pygments_lexer": "ipython3",
   "version": "3.6.0"
  }
 },
 "nbformat": 4,
 "nbformat_minor": 2
}
